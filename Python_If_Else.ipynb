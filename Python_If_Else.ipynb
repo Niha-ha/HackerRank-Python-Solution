{
  "nbformat": 4,
  "nbformat_minor": 0,
  "metadata": {
    "colab": {
      "provenance": [],
      "authorship_tag": "ABX9TyMyVAUrh72+fhxeXz2rMU2S",
      "include_colab_link": true
    },
    "kernelspec": {
      "name": "python3",
      "display_name": "Python 3"
    },
    "language_info": {
      "name": "python"
    }
  },
  "cells": [
    {
      "cell_type": "markdown",
      "metadata": {
        "id": "view-in-github",
        "colab_type": "text"
      },
      "source": [
        "<a href=\"https://colab.research.google.com/github/Niha-ha/HackerRank-Python-Solution/blob/main/Python_If_Else.ipynb\" target=\"_parent\"><img src=\"https://colab.research.google.com/assets/colab-badge.svg\" alt=\"Open In Colab\"/></a>"
      ]
    },
    {
      "cell_type": "code",
      "execution_count": 2,
      "metadata": {
        "colab": {
          "base_uri": "https://localhost:8080/"
        },
        "id": "ItKMEo5gyJXz",
        "outputId": "b035f137-6d2e-4389-c801-fb63fc98668e"
      },
      "outputs": [
        {
          "output_type": "stream",
          "name": "stdout",
          "text": [
            "8\n",
            "Wierd\n"
          ]
        }
      ],
      "source": [
        "n = int(input().strip())\n",
        "if n % 2 != 0 and n < 20:\n",
        "      print(\"Wierd\")\n",
        "elif n % 2 == 0 and 2 <= n <= 5:\n",
        "      print(\"Not Wierd\")\n",
        "elif n % 2 == 0 and 6 <= n <= 20:\n",
        "      print(\"Wierd\")\n",
        "else:\n",
        "      print(\"Not Wierd\")\n",
        ""
      ]
    }
  ]
}